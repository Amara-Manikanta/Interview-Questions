{
 "cells": [
  {
   "cell_type": "markdown",
   "metadata": {},
   "source": [
    "<b>How is memory managed in Python?</b>\n",
    "- Memory management in Python is handled by the Python Memory Manager.\n",
    "- The memory allocated by the manager is in form of a private heap space dedicated for Python.\n",
    "- All Python objects are stored in this heap and being private, it is inaccessible to the programmer.\n",
    "- Though, python does provide some core API functions to work upon the private heap space.\n",
    "- Additionally, Python has an in-built garbage collection to recycle the unused memory for the private heap space."
   ]
  },
  {
   "cell_type": "markdown",
   "metadata": {},
   "source": [
    "<b> What is the difference between .py and .pyc files? </b>\n",
    "-   .py files contain the source code of a program. Whereas, .pyc file contains the bytecode of your program. We get bytecode after compilation of .py file (source code). \n",
    "-   .pyc files are not created for all the files that you run. It is only created for the files that you import.\n",
    "-   Before executing a python program python interpreter checks for the compiled files. \n",
    "-   If the file is present, the virtual machine executes it. If not found, it checks for .py file. \n",
    "-   If found, compiles it to .pyc file and then python virtual machine executes it.\n",
    "-   Having .pyc file saves you the compilation time"
   ]
  },
  {
   "cell_type": "markdown",
   "metadata": {},
   "source": [
    "<b>What is PEP 8 and why is it important?</b>\n",
    "-   PEP stands for Python Enhancement Proposal. \n",
    "- A PEP is an official design document providing information to the Python community, or describing a new feature for Python or its processes. \n",
    "- PEP 8 is especially important since it documents the style guidelines for Python Code. \n",
    "- Apparently contributing to the Python open-source community requires you to follow these style guidelines sincerely and strictly"
   ]
  },
  {
   "cell_type": "markdown",
   "metadata": {},
   "source": [
    "<b>What are global, protected and private attributes in Python?</b> or <b> access specifiers </b>\n",
    "-   Python does not make use of access specifiers specifically like private, public, protected, etc.\n",
    "- <b>Global</b> variables are public variables that are defined in the global scope. \n",
    "- To use the variable in the global scope inside a function, we use the global keyword.\n",
    "- <b>Protected</b> attributes are attributes defined with an underscore prefixed to their identifier eg. _sara. \n",
    "- They can still be accessed and modified from outside the class they are defined in but a responsible developer should refrain from doing so.\n",
    "- <b>Private</b> attributes are attributes with double underscore prefixed to their identifier eg. __ansh. \n",
    "- They cannot be accessed or modified from the outside directly and will result in an AttributeError if such an attempt is made"
   ]
  },
  {
   "cell_type": "markdown",
   "metadata": {},
   "source": [
    "<b> What is the difference between xrange and range in Python? </b>\n",
    "- xrange() and range() are quite similar in terms of functionality.\n",
    "- They both generate a sequence of integers, with the only difference that range() returns a Python list, whereas, xrange() returns an xrange object."
   ]
  },
  {
   "cell_type": "code",
   "execution_count": 5,
   "metadata": {},
   "outputs": [
    {
     "ename": "NameError",
     "evalue": "name 'xrange' is not defined",
     "output_type": "error",
     "traceback": [
      "\u001b[1;31m---------------------------------------------------------------------------\u001b[0m",
      "\u001b[1;31mNameError\u001b[0m                                 Traceback (most recent call last)",
      "\u001b[1;32me:\\Manikanta\\Interview Questions\\Interview Questions.ipynb Cell 5\u001b[0m in \u001b[0;36m<cell line: 1>\u001b[1;34m()\u001b[0m\n\u001b[1;32m----> <a href='vscode-notebook-cell:/e%3A/Manikanta/Interview%20Questions/Interview%20Questions.ipynb#X35sZmlsZQ%3D%3D?line=0'>1</a>\u001b[0m \u001b[39mfor\u001b[39;00m i \u001b[39min\u001b[39;00m xrange(\u001b[39m10\u001b[39m):    \u001b[39m# numbers from o to 9\u001b[39;00m\n\u001b[0;32m      <a href='vscode-notebook-cell:/e%3A/Manikanta/Interview%20Questions/Interview%20Questions.ipynb#X35sZmlsZQ%3D%3D?line=1'>2</a>\u001b[0m    \u001b[39mprint\u001b[39m(i)       \u001b[39m# output => 0 1 2 3 4 5 6 7 8 9\u001b[39;00m\n\u001b[0;32m      <a href='vscode-notebook-cell:/e%3A/Manikanta/Interview%20Questions/Interview%20Questions.ipynb#X35sZmlsZQ%3D%3D?line=2'>3</a>\u001b[0m \u001b[39mfor\u001b[39;00m i \u001b[39min\u001b[39;00m xrange(\u001b[39m1\u001b[39m,\u001b[39m10\u001b[39m):    \u001b[39m# numbers from 1 to 9\u001b[39;00m\n",
      "\u001b[1;31mNameError\u001b[0m: name 'xrange' is not defined"
     ]
    }
   ],
   "source": [
    "for i in xrange(10):    # numbers from o to 9\n",
    "   print(i)       # output => 0 1 2 3 4 5 6 7 8 9\n",
    "for i in xrange(1,10):    # numbers from 1 to 9\n",
    "   print(i)       # output => 1 2 3 4 5 6 7 8 9\n",
    "for i in xrange(1, 10, 2):    # skip by two for next\n",
    "   print(i)       # output => 1 3 5 7 9"
   ]
  },
  {
   "cell_type": "markdown",
   "metadata": {},
   "source": [
    "<b>Explain how can you make a Python Script executable on Unix?</b>\n",
    "- Script file must begin with #!/usr/bin/env python"
   ]
  },
  {
   "cell_type": "markdown",
   "metadata": {},
   "source": [
    "<b>What is the output of the following statement \"Hello World\"[::-1]?</b>"
   ]
  },
  {
   "cell_type": "code",
   "execution_count": 8,
   "metadata": {},
   "outputs": [
    {
     "data": {
      "text/plain": [
       "'dlroW olleH'"
      ]
     },
     "execution_count": 8,
     "metadata": {},
     "output_type": "execute_result"
    }
   ],
   "source": [
    "\"Hello World\"[::-1]"
   ]
  },
  {
   "cell_type": "markdown",
   "metadata": {},
   "source": [
    "<b>What are generators in Python?</b>\n",
    "-   Generators are functions that return an iterable collection of items, one at a time, in a set manner. \n",
    "-   Generators, in general, are used to create iterators with a different approach. \n",
    "-   They employ the use of yield keyword rather than return to return a generator object."
   ]
  },
  {
   "cell_type": "code",
   "execution_count": null,
   "metadata": {},
   "outputs": [],
   "source": []
  },
  {
   "cell_type": "markdown",
   "metadata": {},
   "source": [
    "<b>What are Decorators in Python? </b>\n",
    "\n",
    "- Decorators allow us to wrap another function in order to extend the behavior of wrapped function, without permanently modifying it.\n",
    "- A decorator takes in a function, adds some functionality and returns it.\n",
    "- This is also called metaprogramming because a part of the program tries to modify another part of the program at compile time."
   ]
  },
  {
   "cell_type": "code",
   "execution_count": 4,
   "metadata": {},
   "outputs": [
    {
     "name": "stdout",
     "output_type": "stream",
     "text": [
      "2.0\n"
     ]
    }
   ],
   "source": [
    "def div(a,b):\n",
    "    print(a/b)\n",
    "def smart_div(func):\n",
    "    def inner(a,b):\n",
    "        if a<b:\n",
    "            a,b = b,a\n",
    "        return func(a,b)\n",
    "    return inner\n",
    "div = smart_div(div)\n",
    "div(2,4)"
   ]
  },
  {
   "cell_type": "markdown",
   "metadata": {},
   "source": [
    "<b>isinstance()</b>\n",
    "- The Python’s isinstance() function checks whether the object or variable is an instance of the specified class type or data type.\n",
    "- Test whether an object/variable is an instance of the specified type or class such as list, dict, set, or tuple\n",
    "- Verify whether a variable is a number or string.\n",
    "- Checks if the specified class is the parent class of an object.\n"
   ]
  },
  {
   "cell_type": "code",
   "execution_count": 6,
   "metadata": {},
   "outputs": [
    {
     "name": "stdout",
     "output_type": "stream",
     "text": [
      "True\n",
      "False\n"
     ]
    }
   ],
   "source": [
    "lst=[10,20,'A']\n",
    "mydict={'A':[10,20,30],'B':['A','B','C']}\n",
    "print(isinstance(lst,list))\n",
    "print(isinstance(mydict,tuple))"
   ]
  },
  {
   "cell_type": "code",
   "execution_count": 7,
   "metadata": {},
   "outputs": [
    {
     "name": "stdout",
     "output_type": "stream",
     "text": [
      "True\n",
      "False\n"
     ]
    }
   ],
   "source": [
    "class XYZ1:\n",
    "    a = 50\n",
    "class XYZ2:\n",
    "    b = 100\n",
    "\n",
    "    \n",
    "x1 = XYZ1()\n",
    "y1 = XYZ2()\n",
    "print(isinstance(x1,XYZ1))\n",
    "print(isinstance(y1,XYZ1))"
   ]
  },
  {
   "cell_type": "markdown",
   "metadata": {},
   "source": [
    "<b> What is diffrence between filter,reduce,map in python? </b>\n",
    "1. Filter \n",
    "    - The filter() function in Python takes in a function and a list as arguments. \n",
    "    - This offers an elegant way to filter out all the elements of a sequence “sequence”, for which the function returns True."
   ]
  },
  {
   "cell_type": "code",
   "execution_count": 9,
   "metadata": {},
   "outputs": [
    {
     "name": "stdout",
     "output_type": "stream",
     "text": [
      "[5, 7, 97, 77, 23, 73, 61]\n"
     ]
    }
   ],
   "source": [
    "# Python code to illustrate\n",
    "# filter() with lambda()\n",
    "li = [5, 7, 22, 97, 54, 62, 77, 23, 73, 61]\n",
    " \n",
    "final_list = list(filter(lambda x: (x%2 != 0) , li))\n",
    "print(final_list)"
   ]
  },
  {
   "cell_type": "markdown",
   "metadata": {},
   "source": [
    "2. Map\n",
    "    - The map() function in Python takes in a function and a list as an argument.\n",
    "    - The function is called with a lambda function and a list and a new list is returned which contains all the lambda modified items returned by that function for each item. "
   ]
  },
  {
   "cell_type": "code",
   "execution_count": 10,
   "metadata": {},
   "outputs": [
    {
     "name": "stdout",
     "output_type": "stream",
     "text": [
      "[10, 14, 44, 194, 108, 124, 154, 46, 146, 122]\n"
     ]
    }
   ],
   "source": [
    "# Python code to illustrate\n",
    "# map() with lambda()\n",
    "# to get double of a list.\n",
    "li = [5, 7, 22, 97, 54, 62, 77, 23, 73, 61]\n",
    "\n",
    "final_list = list(map(lambda x: x*2, li))\n",
    "print(final_list)\n"
   ]
  },
  {
   "cell_type": "markdown",
   "metadata": {},
   "source": [
    "3. Reduce\n",
    "    - The reduce() function in Python takes in a function and a list as an argument. \n",
    "    - The function is called with a lambda function and an iterable and a new reduced result is returned. \n",
    "    - This performs a repetitive operation over the pairs of the iterable. \n",
    "    - The reduce() function belongs to the  functools module. "
   ]
  },
  {
   "cell_type": "code",
   "execution_count": 1,
   "metadata": {},
   "outputs": [
    {
     "name": "stdout",
     "output_type": "stream",
     "text": [
      "193\n"
     ]
    }
   ],
   "source": [
    "# Python code to illustrate\n",
    "# reduce() with lambda()\n",
    "# to get sum of a list\n",
    "\n",
    "from functools import reduce\n",
    "li = [5, 8, 10, 20, 50, 100]\n",
    "sum = reduce((lambda x, y: x + y), li)\n",
    "print (sum)\n"
   ]
  },
  {
   "cell_type": "markdown",
   "metadata": {},
   "source": [
    "<b> What is diffrance between shallow copy and deep copy? </b>\n",
    "1. Deep Copy\n",
    "    - A copy of object is copied in other object. \n",
    "    - It means that any changes made to a copy of object do not reflect in the original object."
   ]
  },
  {
   "cell_type": "code",
   "execution_count": 2,
   "metadata": {},
   "outputs": [
    {
     "name": "stdout",
     "output_type": "stream",
     "text": [
      "The original elements before deep copying\n",
      "1 2 [3, 5] 4 \n",
      "The new list of elements after deep copying \n",
      "1 2 [7, 5] 4 \n",
      "The original elements after deep copying\n",
      "1 2 [3, 5] 4 "
     ]
    }
   ],
   "source": [
    "# Python code to demonstrate copy operations\n",
    "\n",
    "# importing \"copy\" for copy operations\n",
    "import copy\n",
    "\n",
    "# initializing list 1\n",
    "li1 = [1, 2, [3,5], 4]\n",
    "\n",
    "# using deepcopy to deep copy\n",
    "li2 = copy.deepcopy(li1)\n",
    "\n",
    "# original elements of list\n",
    "print (\"The original elements before deep copying\")\n",
    "for i in range(0,len(li1)):\n",
    "\tprint (li1[i],end=\" \")\n",
    "\n",
    "print(\"\\r\")\n",
    "\n",
    "# adding and element to new list\n",
    "li2[2][0] = 7\n",
    "\n",
    "# Change is reflected in l2\n",
    "print (\"The new list of elements after deep copying \")\n",
    "for i in range(0,len( li1)):\n",
    "\tprint (li2[i],end=\" \")\n",
    "\n",
    "print(\"\\r\")\n",
    "\n",
    "# Change is NOT reflected in original list\n",
    "# as it is a deep copy\n",
    "print (\"The original elements after deep copying\")\n",
    "for i in range(0,len( li1)):\n",
    "\tprint (li1[i],end=\" \")\n"
   ]
  },
  {
   "cell_type": "markdown",
   "metadata": {},
   "source": [
    "2. Shallow Copy\n",
    "    - The copying process does not recurse and therefore won’t create copies of the child objects themselves. \n",
    "    - In case of shallow copy, a reference of object is copied in other object. \n",
    "    - It means that any changes made to a copy of object do reflect in the original object. \n",
    "    - In python, this is implemented using “copy()” function."
   ]
  },
  {
   "cell_type": "code",
   "execution_count": 3,
   "metadata": {},
   "outputs": [
    {
     "name": "stdout",
     "output_type": "stream",
     "text": [
      "The original elements before shallow copying\n",
      "1 2 [3, 5] 4 \n",
      "The original elements after shallow copying\n",
      "1 2 [7, 5] 4 "
     ]
    }
   ],
   "source": [
    "# Python code to demonstrate copy operations\n",
    "\n",
    "# importing \"copy\" for copy operations\n",
    "import copy\n",
    "\n",
    "# initializing list 1\n",
    "li1 = [1, 2, [3,5], 4]\n",
    "\n",
    "# using copy to shallow copy\n",
    "li2 = copy.copy(li1)\n",
    "\n",
    "# original elements of list\n",
    "print (\"The original elements before shallow copying\")\n",
    "for i in range(0,len(li1)):\n",
    "\tprint (li1[i],end=\" \")\n",
    "\n",
    "print(\"\\r\")\n",
    "\n",
    "# adding and element to new list\n",
    "li2[2][0] = 7\n",
    "\n",
    "# checking if change is reflected\n",
    "print (\"The original elements after shallow copying\")\n",
    "for i in range(0,len( li1)):\n",
    "\tprint (li1[i],end=\" \")\n"
   ]
  },
  {
   "cell_type": "markdown",
   "metadata": {},
   "source": [
    "<b> what is pickling and unpickling?</b>\n",
    "-   Pickling is the conversion of python objects to binary form. \n",
    "-   Whereas, unpickling is the conversion of binary form data to python objects. \n",
    "-   The pickled objects are used for storing in disks or external memory locations.\n",
    "-    Unpickled objects are used for getting the data back as python objects upon which processing can be done in python."
   ]
  },
  {
   "cell_type": "code",
   "execution_count": 7,
   "metadata": {},
   "outputs": [],
   "source": [
    "import pickle\n",
    "import numpy as np\n",
    "data_dict={\n",
    "    'volts': np.random.random(10),\n",
    "    'current' : np.random.random(10),\n",
    "}\n",
    "with open('data_pick.pkl','wb') as pickle_file:\n",
    "    pickle.dump(data_dict,pickle_file)"
   ]
  },
  {
   "cell_type": "code",
   "execution_count": 2,
   "metadata": {},
   "outputs": [],
   "source": [
    "import pickle\n",
    "with open('data_pick.pkl','rb') as pickle_file:\n",
    "    new_data=pickle.load(pickle_file)"
   ]
  },
  {
   "cell_type": "code",
   "execution_count": 3,
   "metadata": {},
   "outputs": [
    {
     "data": {
      "text/plain": [
       "{'volts': array([0.24113672, 0.99530669, 0.62792023, 0.11330346, 0.78109611,\n",
       "        0.11933527, 0.32131767, 0.51386872, 0.31483274, 0.84980956]),\n",
       " 'current': array([0.21930297, 0.06839773, 0.8302041 , 0.62845797, 0.26421427,\n",
       "        0.28474614, 0.01396751, 0.91997782, 0.18035472, 0.77652378])}"
      ]
     },
     "execution_count": 3,
     "metadata": {},
     "output_type": "execute_result"
    }
   ],
   "source": [
    "new_data"
   ]
  },
  {
   "cell_type": "markdown",
   "metadata": {},
   "source": [
    "<b> What is main function in python? How do you invoke it? </b>\n",
    "-   __name__ variable is a special built-in variable that points to the name of the current module."
   ]
  },
  {
   "cell_type": "code",
   "execution_count": 5,
   "metadata": {},
   "outputs": [
    {
     "name": "stdout",
     "output_type": "stream",
     "text": [
      "Hi Mani!\n"
     ]
    }
   ],
   "source": [
    "def main():\n",
    "   print(\"Hi Mani!\")\n",
    "if __name__==\"__main__\":\n",
    "   main()"
   ]
  },
  {
   "cell_type": "markdown",
   "metadata": {},
   "source": [
    "<b>Inheritance </b>\n",
    "-   Single inheritance\n",
    "        -   Child class derives members of one parent class.\n",
    "-   Multi-level inheritance\n",
    "        -   The features of the base class and the derived class are further inherited into the new derived class.\n",
    "-   Multiple inheritance\n",
    "        -   This is achieved when one child class derives members from more than one parent class.\n",
    "-   Hierarchical inheritance\n",
    "        -   A parent class is derived by more than one child class."
   ]
  },
  {
   "cell_type": "markdown",
   "metadata": {},
   "source": [
    "<b> super()</b>\n",
    "-   The parent class members can be accessed in child class using the super keyword."
   ]
  },
  {
   "cell_type": "code",
   "execution_count": null,
   "metadata": {},
   "outputs": [],
   "source": []
  }
 ],
 "metadata": {
  "kernelspec": {
   "display_name": "Python 3.10.5 64-bit",
   "language": "python",
   "name": "python3"
  },
  "language_info": {
   "codemirror_mode": {
    "name": "ipython",
    "version": 3
   },
   "file_extension": ".py",
   "mimetype": "text/x-python",
   "name": "python",
   "nbconvert_exporter": "python",
   "pygments_lexer": "ipython3",
   "version": "3.10.5"
  },
  "orig_nbformat": 4,
  "vscode": {
   "interpreter": {
    "hash": "03b37dae92bc6a2c465bef786b75aa79e1f432ae4ff16211f909ec572ef8de7d"
   }
  }
 },
 "nbformat": 4,
 "nbformat_minor": 2
}
