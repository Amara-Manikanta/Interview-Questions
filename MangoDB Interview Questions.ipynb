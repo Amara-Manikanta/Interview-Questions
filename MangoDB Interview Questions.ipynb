{
 "cells": [
  {
   "cell_type": "markdown",
   "metadata": {},
   "source": [
    "<h1> Mango DB </h1>"
   ]
  },
  {
   "cell_type": "markdown",
   "metadata": {},
   "source": [
    "<b>What is MongoDB ? </b>\n",
    "-   MongoDB is an open-source NoSQL database written in C++ language. \n",
    "-   It uses JSON-like documents with optional schemas.\n",
    "-   It provides easy scalability and is a cross-platform, document-oriented database.\n",
    "-   MongoDB works on the concept of Collection and Document.\n",
    "-   It combines the ability to scale out with features such as secondary indexes, range queries, sorting, aggregations, and geospatial indexes.\n",
    "-   MongoDB is developed by MongoDB Inc. and licensed under the Server Side Public License (SSPL)."
   ]
  },
  {
   "cell_type": "markdown",
   "metadata": {},
   "source": [
    "<b>What are some of the advantages of MongoDB?</b>\n",
    "-   MongoDB supports field, range-based, string pattern matching type queries. for searching the data in the database \n",
    "-   MongoDB support primary and secondary index on any fields\n",
    "-   MongoDB basically uses JavaScript objects in place of procedures\n",
    "-   MongoDB uses a dynamic database schema\n",
    "-   MongoDB is very easy to scale up or down\n",
    "-   MongoDB has inbuilt support for data partitioning (Sharding)."
   ]
  },
  {
   "cell_type": "markdown",
   "metadata": {},
   "source": [
    "<b>What is a Document in MongoDB?</b>\n",
    "-   A Document in MongoDB is an ordered set of keys with associated values. \n",
    "-   It is represented by a map, hash, or dictionary.\n",
    "-   {\"greeting\" : \"Hello world!\"}"
   ]
  },
  {
   "cell_type": "markdown",
   "metadata": {},
   "source": [
    "<b>What is a Collection in MongoDB?</b>\n",
    "-   A collection in MongoDB is a group of documents. \n",
    "-   If a document is the MongoDB analog of a row in a relational database, then a collection can be thought of as the analog to a table.\n",
    "-   Documents within a single collection can have any number of different “shapes.”, i.e. collections have dynamic schemas. \n",
    "-   For example, both of the following documents could be stored in a single collection:\n",
    "-       {\"greeting\" : \"Hello world!\", \"views\": 3}\n",
    "-       {\"signoff\": \"Good bye\"}"
   ]
  },
  {
   "cell_type": "markdown",
   "metadata": {},
   "source": [
    "<b>reserved database names </b>\n",
    "-   admin\n",
    "-   local\n",
    "-   config"
   ]
  },
  {
   "cell_type": "markdown",
   "metadata": {},
   "source": [
    "<b>What are some features of MongoDB?</b>\n",
    "-   Indexing: It supports generic secondary indexes and provides unique, compound, geospatial, and full-text indexing capabilities as well.\n",
    "-   Aggregation: It provides an aggregation framework based on the concept of data processing pipelines.\n",
    "-   Special collection and index types: It supports time-to-live (TTL) collections for data that should expire at a certain time\n",
    "-   File storage: It supports an easy-to-use protocol for storing large files and file metadata.\n",
    "-   Sharding: Sharding is the process of splitting data up across machines"
   ]
  },
  {
   "cell_type": "markdown",
   "metadata": {},
   "source": [
    "<b> What are the data types in MongoDB?</b>\n",
    "-   MongoDB supports a wide range of data types as values in documents. \n",
    "-   Documents in MongoDB are similar to objects in JavaScript. \n",
    "-   Along with JSON’s essential key/value–pair nature, MongoDB adds support for a number of additional data types. \n",
    "-   The common data types in MongoDB are:\n",
    "\n",
    "-   Null\n",
    "{\"x\" : null}\n",
    "-   Boolean\n",
    "{\"x\" : true}\n",
    "-   Number\n",
    "{\"x\" : 4}\n",
    "-   String\n",
    "{\"x\" : \"foobar\"}\n",
    "-   Date\n",
    "{\"x\" : new Date()}\n",
    "-   Regular expression\n",
    "{\"x\" : /foobar/i}\n",
    "-   Array\n",
    "{\"x\" : [\"a\", \"b\", \"c\"]}\n",
    "-   Embedded document\n",
    "{\"x\" : {\"foo\" : \"bar\"}}\n",
    "-   Object ID\n",
    "{\"x\" : ObjectId()}\n",
    "-   Binary Data\n",
    "-   Binary data is a string of arbitrary bytes.\n",
    "-   Code\n",
    "{\"x\" : function() { /* ... */ }}"
   ]
  },
  {
   "cell_type": "code",
   "execution_count": null,
   "metadata": {},
   "outputs": [],
   "source": []
  },
  {
   "cell_type": "code",
   "execution_count": null,
   "metadata": {},
   "outputs": [],
   "source": []
  }
 ],
 "metadata": {
  "kernelspec": {
   "display_name": "Python 3.10.5 64-bit",
   "language": "python",
   "name": "python3"
  },
  "language_info": {
   "codemirror_mode": {
    "name": "ipython",
    "version": 3
   },
   "file_extension": ".py",
   "mimetype": "text/x-python",
   "name": "python",
   "nbconvert_exporter": "python",
   "pygments_lexer": "ipython3",
   "version": "3.10.5"
  },
  "orig_nbformat": 4,
  "vscode": {
   "interpreter": {
    "hash": "03b37dae92bc6a2c465bef786b75aa79e1f432ae4ff16211f909ec572ef8de7d"
   }
  }
 },
 "nbformat": 4,
 "nbformat_minor": 2
}
