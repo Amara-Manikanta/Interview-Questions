{
 "cells": [
  {
   "cell_type": "markdown",
   "metadata": {},
   "source": [
    "<h1>Python Problems</h1>"
   ]
  },
  {
   "cell_type": "markdown",
   "metadata": {},
   "source": [
    "-   If the value starts with 'a' then perform max value pf key plus its key as new dictionary"
   ]
  },
  {
   "cell_type": "code",
   "execution_count": 5,
   "metadata": {},
   "outputs": [
    {
     "name": "stdout",
     "output_type": "stream",
     "text": [
      "4\n"
     ]
    }
   ],
   "source": [
    "dict={'1':'abc','2':'bca','3':'ade','4':'dfg'}\n",
    "max_num_in_values=0\n",
    "for i in dict.keys():\n",
    "    #print(i)\n",
    "    if int(i) > int(max_num_in_values):\n",
    "        max_num_in_values =i\n",
    "print(max_num_in_values)"
   ]
  },
  {
   "cell_type": "code",
   "execution_count": 12,
   "metadata": {},
   "outputs": [
    {
     "name": "stdout",
     "output_type": "stream",
     "text": [
      "abc\n",
      "None\n"
     ]
    },
    {
     "ename": "KeyError",
     "evalue": "0",
     "output_type": "error",
     "traceback": [
      "\u001b[1;31m---------------------------------------------------------------------------\u001b[0m",
      "\u001b[1;31mKeyError\u001b[0m                                  Traceback (most recent call last)",
      "\u001b[1;32me:\\Manikanta\\Interview Questions\\Python Problems.ipynb Cell 3\u001b[0m in \u001b[0;36m<cell line: 2>\u001b[1;34m()\u001b[0m\n\u001b[0;32m      <a href='vscode-notebook-cell:/e%3A/Manikanta/Interview%20Questions/Python%20Problems.ipynb#W2sZmlsZQ%3D%3D?line=3'>4</a>\u001b[0m \u001b[39mif\u001b[39;00m i\u001b[39m.\u001b[39mstartswith(\u001b[39m'\u001b[39m\u001b[39ma\u001b[39m\u001b[39m'\u001b[39m):\n\u001b[0;32m      <a href='vscode-notebook-cell:/e%3A/Manikanta/Interview%20Questions/Python%20Problems.ipynb#W2sZmlsZQ%3D%3D?line=4'>5</a>\u001b[0m     \u001b[39mprint\u001b[39m(\u001b[39mdict\u001b[39m\u001b[39m.\u001b[39mget(count))\n\u001b[1;32m----> <a href='vscode-notebook-cell:/e%3A/Manikanta/Interview%20Questions/Python%20Problems.ipynb#W2sZmlsZQ%3D%3D?line=5'>6</a>\u001b[0m     \u001b[39mprint\u001b[39m(\u001b[39mdict\u001b[39;49m[count])\n\u001b[0;32m      <a href='vscode-notebook-cell:/e%3A/Manikanta/Interview%20Questions/Python%20Problems.ipynb#W2sZmlsZQ%3D%3D?line=6'>7</a>\u001b[0m count \u001b[39m+\u001b[39m\u001b[39m=\u001b[39m\u001b[39m1\u001b[39m\n",
      "\u001b[1;31mKeyError\u001b[0m: 0"
     ]
    }
   ],
   "source": [
    "count =0\n",
    "for i in dict.values():\n",
    "    print(i)\n",
    "    if i.startswith('a'):\n",
    "        print(dict.get(count))\n",
    "        print(dict[count])\n",
    "    count +=1"
   ]
  },
  {
   "cell_type": "code",
   "execution_count": 13,
   "metadata": {},
   "outputs": [
    {
     "data": {
      "text/plain": [
       "('4', 'dfg')"
      ]
     },
     "execution_count": 13,
     "metadata": {},
     "output_type": "execute_result"
    }
   ],
   "source": [
    "max(dict.items())"
   ]
  },
  {
   "cell_type": "code",
   "execution_count": null,
   "metadata": {},
   "outputs": [],
   "source": []
  }
 ],
 "metadata": {
  "kernelspec": {
   "display_name": "Python 3.10.5 64-bit",
   "language": "python",
   "name": "python3"
  },
  "language_info": {
   "codemirror_mode": {
    "name": "ipython",
    "version": 3
   },
   "file_extension": ".py",
   "mimetype": "text/x-python",
   "name": "python",
   "nbconvert_exporter": "python",
   "pygments_lexer": "ipython3",
   "version": "3.10.5"
  },
  "orig_nbformat": 4,
  "vscode": {
   "interpreter": {
    "hash": "03b37dae92bc6a2c465bef786b75aa79e1f432ae4ff16211f909ec572ef8de7d"
   }
  }
 },
 "nbformat": 4,
 "nbformat_minor": 2
}
